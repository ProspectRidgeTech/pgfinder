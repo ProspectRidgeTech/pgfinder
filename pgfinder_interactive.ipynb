{
 "cells": [
  {
   "cell_type": "markdown",
   "metadata": {
    "hideCode": true,
    "hidePrompt": true
   },
   "source": [
    "# PGFinder Interactive Notebook\n",
    "\n",
    "This notebook is a basic user interface to allow researchers less familiar with the command line to run PGFinder. Some compromises have been made to make it run as a Jupyter notebook on the free myBinder platform.\n",
    "\n",
    "To use the code to analyse your data you must work from top to bottom on this notebook, following instructions as you go. The first step is to execute all of the \"cells\" in the notebook so they are ready for your input. To do this...\n",
    "\n",
    "**Click *Kernel*>*Restart & Run All* on the menu, above.**\n",
    "\n",
    "If you have any problems or suggestions, or would like to contribute a mass database, please raise an [issue here](https://github.com/Mesnage-Org/pgfinder/issues). This notebook runs on the latest release. Please review the [release notes](https://github.com/Mesnage-Org/pgfinder/releases)."
   ]
  },
  {
   "cell_type": "code",
   "execution_count": null,
   "metadata": {
    "ExecuteTime": {
     "end_time": "2023-05-03T15:41:43.620796Z",
     "start_time": "2023-05-03T15:41:43.245432Z"
    },
    "hideCode": true,
    "hidePrompt": true
   },
   "outputs": [],
   "source": [
    "import base64\n",
    "import codecs\n",
    "import io\n",
    "import os\n",
    "import uuid\n",
    "import ipywidgets as widgets\n",
    "from ipywidgets import HTML\n",
    "from IPython.display import display\n",
    "from ipysheet import from_dataframe\n",
    "import pandas as pd\n",
    "\n",
    "from pgfinder import matching, pgio, validation\n",
    "\n",
    "# Get list of modifications\n",
    "allowed_mods = validation.allowed_modifications()\n",
    "\n",
    "# Get built in mass lists\n",
    "mass_lists_path = './data/masses'\n",
    "mass_lists = os.listdir(mass_lists_path)\n",
    "mass_lists.append('Upload Custom')\n",
    "\n",
    "# Main analysis function\n",
    "def analysis(b):\n",
    "    # Upload deconvoluted file\n",
    "    # This widget returns a dictionary of details of uploaded files\n",
    "    # However, the widget is restricted to allow only one file\n",
    "    # Hence `.value[0]`\n",
    "    uploaded_df = pgio.ms_upload_reader(data_uploader.children[0].value[0])\n",
    "    \n",
    "    # Load mass list\n",
    "    if rb_masses.value == 'Upload Custom':\n",
    "        theo_masses = pgio.theo_masses_upload_reader(mass_uploader.children[0].value[0])\n",
    "    else:\n",
    "        csv_filepath = os.path.join(mass_lists_path, rb_masses.value)\n",
    "        theo_masses = pgio.theo_masses_reader(csv_filepath)\n",
    "\n",
    "    # Load ppm value\n",
    "    user_ppm = ppm_tol.value\n",
    "\n",
    "    # Load time delta value\n",
    "    user_time_delta = time_delta.value\n",
    "\n",
    "    # Load decimal places\n",
    "    dp = decimal_places.value\n",
    "    # Make sure mod list is a list\n",
    "    mod_list = list(selector_mods.value)\n",
    "    \n",
    "    results = matching.data_analysis(uploaded_df, theo_masses, user_time_delta, mod_list, user_ppm)\n",
    "    consolidated = matching.consolidate_matches(results)\n",
    "          \n",
    "    # Make the download button(s)\n",
    "    def _download_results(df: pd.DataFrame, filename_prefix: str, float_format: int=4):\n",
    "        \"\"\"Create a download button for the provided DataFrame as CSV.\n",
    "        \n",
    "        Parameters\n",
    "        ----------\n",
    "        df: pd.DataFrame\n",
    "            Pandas DataFrame to be downloaded.\n",
    "        filename: str\n",
    "            Filename to prefix output with.\n",
    "        float_format: int\n",
    "            Formatting for floating point numbers, default is 4 decimal places.\n",
    "        \"\"\"\n",
    "        filename = pgio.default_filename(prefix=filename_prefix)\n",
    "        if filename_prefix == \"consolidated_\":\n",
    "            results_csv_str = df.to_csv(float_format=\"%d\")\n",
    "            download_file = \"Download Consolidated\"\n",
    "        else:\n",
    "            results_csv_str = pgio.dataframe_to_csv_metadata(output_dataframe=df, float_format=f\"%.{str(float_format)}f\")\n",
    "            download_file = \"Download Results File\"\n",
    "        b64 = base64.b64encode(results_csv_str.encode())\n",
    "        payload = b64.decode()\n",
    "        html_buttons = '''<html>\n",
    "            <head>\n",
    "            <meta name=\"viewport\" content=\"width=device-width, initial-scale=1\">\n",
    "            </head>\n",
    "            <body>\n",
    "            <a download=\"{filename}\" href=\"data:text/csv;base64,{payload}\" download>\n",
    "            <button class=\"p-Widget jupyter-widgets jupyter-button widget-button mod-warning\">{download_file}</button>\n",
    "            </a>\n",
    "            </body>\n",
    "            </html>\n",
    "            '''\n",
    "\n",
    "        html_button = html_buttons.format(payload=payload,filename=filename, download_file=download_file)\n",
    "        return display(HTML(html_button))\n",
    "\n",
    "    _download_results(df=results, filename_prefix=\"results_\", float_format=dp)\n",
    "    _download_results(df=consolidated, filename_prefix=\"consolidated_\")\n",
    "\n",
    "    \n",
    "# Define widgets\n",
    "\n",
    "# A composite widget for picking a file and displaying its name\n",
    "def named_file_upload(accept, description):\n",
    "    file_upload = widgets.FileUpload(\n",
    "        accept = accept, \n",
    "        description = description,\n",
    "        multiple = False,\n",
    "        layout = big_button\n",
    "    )\n",
    "    file_name = widgets.Label(value=\"No file selected...\")\n",
    "    def handle_file_upload(file):\n",
    "        file_name.value = file[\"new\"][0][\"name\"]\n",
    "    file_upload.observe(handle_file_upload, names='value')\n",
    "    return widgets.HBox([file_upload, file_name])\n",
    "\n",
    "# Layout for a bigger button\n",
    "big_button = widgets.Layout(width='auto')\n",
    "\n",
    "# Style for wider description\n",
    "wide_style = {'description_width': 'initial'}\n",
    "\n",
    "# Deconvoluted Data file upload\n",
    "data_uploader = named_file_upload('.txt,.ftrs', 'Upload Deconvoluted Data')\n",
    "\n",
    "# Modifcation selector\n",
    "selector_mods = widgets.SelectMultiple(\n",
    "    options = allowed_mods,\n",
    "    description = 'Modification',\n",
    "    disabled = False\n",
    ")\n",
    "\n",
    "# Mass library selector\n",
    "rb_masses = widgets.RadioButtons(\n",
    "    options = mass_lists,\n",
    "    description = 'Mass List',\n",
    "    disabled = False\n",
    ")\n",
    "\n",
    "# Mass library file upload\n",
    "mass_uploader = named_file_upload('.csv', 'Upload Mass Library')\n",
    "\n",
    "# Set PPM tolerance\n",
    "ppm_tol = widgets.BoundedFloatText(\n",
    "    value = 10.0,\n",
    "    min = 1,\n",
    "    max = 100,\n",
    "    step = 0.1,\n",
    "    description = 'Set ppm tolerance',\n",
    "    disabled = False,\n",
    "    style = wide_style\n",
    "    )\n",
    "\n",
    "# Set time delta for in source clean up\n",
    "time_delta = widgets.BoundedFloatText(\n",
    "    value = 0.5,\n",
    "    min = 0,\n",
    "    max = 100,\n",
    "    step = 0.01,\n",
    "    description = 'Set time delta value',\n",
    "    disabled = False,\n",
    "    style = wide_style\n",
    ")\n",
    "\n",
    "# Decimal places\n",
    "decimal_places = widgets.Dropdown(\n",
    "    options=[1, 2, 3, 4, 5, 6, 7, 8, 9, 10, 11, 12],\n",
    "    value=4,\n",
    "    description='Decimal Places:',\n",
    "    disabled=False,\n",
    ")\n",
    "\n",
    "# Analysis button\n",
    "button = widgets.Button(description=\"Run Analysis\")\n",
    "button.on_click(analysis)"
   ]
  },
  {
   "cell_type": "markdown",
   "metadata": {
    "hideCode": true,
    "hidePrompt": true
   },
   "source": [
    "## Step 1: Upload Deconvoluted Data\n",
    "Click *Upload* to upload a `.txt` file output by MaxQuant ([example file](https://github.com/Mesnage-Org/pgfinder/raw/master/data/maxquant_test_data.txt)), or an `.ftrs` file."
   ]
  },
  {
   "cell_type": "code",
   "execution_count": null,
   "metadata": {
    "ExecuteTime": {
     "end_time": "2023-05-03T15:41:43.627878Z",
     "start_time": "2023-05-03T15:41:43.622721Z"
    },
    "hideCode": true,
    "hidePrompt": true
   },
   "outputs": [],
   "source": [
    "display(data_uploader)"
   ]
  },
  {
   "cell_type": "markdown",
   "metadata": {
    "hideCode": true,
    "hidePrompt": true
   },
   "source": [
    "## Step 2: Select Modifications\n",
    "Select modifications (Hold down control / command and click to select mulitple items.)"
   ]
  },
  {
   "cell_type": "code",
   "execution_count": null,
   "metadata": {
    "ExecuteTime": {
     "end_time": "2023-05-03T15:41:43.635282Z",
     "start_time": "2023-05-03T15:41:43.631500Z"
    },
    "hideCode": true,
    "hidePrompt": true
   },
   "outputs": [],
   "source": [
    "display(selector_mods) "
   ]
  },
  {
   "cell_type": "markdown",
   "metadata": {
    "hideCode": true,
    "hidePrompt": true
   },
   "source": [
    "## Step 3: Select or Upload Mass Library"
   ]
  },
  {
   "cell_type": "markdown",
   "metadata": {
    "hideCode": true,
    "hidePrompt": true
   },
   "source": [
    "### Select"
   ]
  },
  {
   "cell_type": "code",
   "execution_count": null,
   "metadata": {
    "ExecuteTime": {
     "end_time": "2023-05-03T15:41:43.641279Z",
     "start_time": "2023-05-03T15:41:43.636907Z"
    },
    "hideCode": true,
    "hidePrompt": true
   },
   "outputs": [],
   "source": [
    "display(rb_masses)"
   ]
  },
  {
   "cell_type": "markdown",
   "metadata": {
    "hideCode": true,
    "hidePrompt": true
   },
   "source": [
    "### (Optional) Upload Custom Mass Library\n",
    "[Example mass library file.](https://raw.githubusercontent.com/Mesnage-Org/pgfinder/master/data/masses/e_coli_monomer_masses.csv)"
   ]
  },
  {
   "cell_type": "code",
   "execution_count": null,
   "metadata": {
    "ExecuteTime": {
     "end_time": "2023-05-03T15:41:43.647869Z",
     "start_time": "2023-05-03T15:41:43.642823Z"
    },
    "hideCode": true,
    "hidePrompt": true
   },
   "outputs": [],
   "source": [
    "display(mass_uploader)"
   ]
  },
  {
   "cell_type": "markdown",
   "metadata": {
    "hideCode": true,
    "hidePrompt": true
   },
   "source": [
    "## Step 4: Set PPM tolerance"
   ]
  },
  {
   "cell_type": "code",
   "execution_count": null,
   "metadata": {
    "ExecuteTime": {
     "end_time": "2023-05-03T15:41:43.654196Z",
     "start_time": "2023-05-03T15:41:43.649544Z"
    },
    "hideCode": true,
    "hidePrompt": true
   },
   "outputs": [],
   "source": [
    "display(ppm_tol)"
   ]
  },
  {
   "cell_type": "markdown",
   "metadata": {
    "hideCode": true,
    "hidePrompt": true
   },
   "source": [
    "## Step 5: Set time window for in-source decay and salt adduct clean up"
   ]
  },
  {
   "cell_type": "code",
   "execution_count": null,
   "metadata": {
    "ExecuteTime": {
     "end_time": "2023-05-03T15:41:43.660580Z",
     "start_time": "2023-05-03T15:41:43.655862Z"
    },
    "hideCode": true,
    "hidePrompt": true
   },
   "outputs": [],
   "source": [
    "display(time_delta)"
   ]
  },
  {
   "cell_type": "markdown",
   "metadata": {},
   "source": [
    "# Step 6: Set decimal places for Output\n",
    "\n",
    "If you want a different number of decimal places in the full results output than 4 you can change this below."
   ]
  },
  {
   "cell_type": "code",
   "execution_count": null,
   "metadata": {
    "ExecuteTime": {
     "end_time": "2023-05-03T15:41:43.667408Z",
     "start_time": "2023-05-03T15:41:43.662188Z"
    }
   },
   "outputs": [],
   "source": [
    "display(decimal_places)"
   ]
  },
  {
   "cell_type": "markdown",
   "metadata": {
    "hideCode": true,
    "hidePrompt": true
   },
   "source": [
    "## Step 6: Run Analysis\n",
    "Click run analysis.\n",
    "After the analysis is complete, a download button will appear."
   ]
  },
  {
   "cell_type": "code",
   "execution_count": null,
   "metadata": {
    "ExecuteTime": {
     "end_time": "2023-05-03T15:41:43.673944Z",
     "start_time": "2023-05-03T15:41:43.669751Z"
    },
    "hideCode": true,
    "hidePrompt": true
   },
   "outputs": [],
   "source": [
    "display(button)"
   ]
  }
 ],
 "metadata": {
  "hide_code_all_hidden": true,
  "kernelspec": {
   "display_name": "Python 3 (ipykernel)",
   "language": "python",
   "name": "python3"
  },
  "language_info": {
   "codemirror_mode": {
    "name": "ipython",
    "version": 3
   },
   "file_extension": ".py",
   "mimetype": "text/x-python",
   "name": "python",
   "nbconvert_exporter": "python",
   "pygments_lexer": "ipython3",
   "version": "3.10.10"
  }
 },
 "nbformat": 4,
 "nbformat_minor": 2
}
